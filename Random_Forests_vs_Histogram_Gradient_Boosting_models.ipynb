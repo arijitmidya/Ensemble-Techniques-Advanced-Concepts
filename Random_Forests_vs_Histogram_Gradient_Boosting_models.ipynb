{
  "cells": [
    {
      "cell_type": "markdown",
      "source": [
        "# Random Forests vs Histogram Gradient Boosting models\n",
        "\n",
        "In this example we compare the performance of Random Forest (RF) and Histogram Gradient Boosting (HGBT) models in terms of score and computation time for a regression dataset, though all the concepts here presented apply to classification as well.\n",
        "\n",
        "The comparison is made by varying the parameters that control the number of trees according to each estimator:\n",
        "\n",
        "n_estimators controls the number of trees in the forest. It’s a fixed number.\n",
        "\n",
        "max_iter is the maximum number of iterations in a gradient boosting based model. The number of iterations corresponds to the number of trees for regression and binary classification problems. Furthermore, the actual number of trees required by the model depends on the stopping criteria.\n",
        "\n",
        "HGBT uses gradient boosting to iteratively improve the model’s performance by fitting each tree to the negative gradient of the loss function with respect to the predicted value. RFs, on the other hand, are based on bagging and use a majority vote to predict the outcome.\n"
      ],
      "metadata": {
        "id": "KAogxXulfath"
      }
    },
    {
      "cell_type": "markdown",
      "source": [
        "# 1. Load the dataset"
      ],
      "metadata": {
        "id": "n9jHdp33TWbA"
      }
    },
    {
      "cell_type": "code",
      "source": [
        "from sklearn.datasets import fetch_california_housing\n",
        "\n",
        "X, y = fetch_california_housing(return_X_y=True, as_frame=True)\n",
        "n_samples, n_features = X.shape"
      ],
      "metadata": {
        "id": "Ja7-b4ReTVto"
      },
      "execution_count": 84,
      "outputs": []
    },
    {
      "cell_type": "code",
      "source": [
        "X.head() , y.head()"
      ],
      "metadata": {
        "colab": {
          "base_uri": "https://localhost:8080/"
        },
        "id": "5RfE_EFfTbsV",
        "outputId": "9374fd7a-2113-4a3d-f1e9-1e4a007f3673"
      },
      "execution_count": 87,
      "outputs": [
        {
          "output_type": "execute_result",
          "data": {
            "text/plain": [
              "(   MedInc  HouseAge  AveRooms  AveBedrms  Population  AveOccup  Latitude  \\\n",
              " 0  8.3252      41.0  6.984127   1.023810       322.0  2.555556     37.88   \n",
              " 1  8.3014      21.0  6.238137   0.971880      2401.0  2.109842     37.86   \n",
              " 2  7.2574      52.0  8.288136   1.073446       496.0  2.802260     37.85   \n",
              " 3  5.6431      52.0  5.817352   1.073059       558.0  2.547945     37.85   \n",
              " 4  3.8462      52.0  6.281853   1.081081       565.0  2.181467     37.85   \n",
              " \n",
              "    Longitude  \n",
              " 0    -122.23  \n",
              " 1    -122.22  \n",
              " 2    -122.24  \n",
              " 3    -122.25  \n",
              " 4    -122.25  ,\n",
              " 0    4.526\n",
              " 1    3.585\n",
              " 2    3.521\n",
              " 3    3.413\n",
              " 4    3.422\n",
              " Name: MedHouseVal, dtype: float64)"
            ]
          },
          "metadata": {},
          "execution_count": 87
        }
      ]
    },
    {
      "cell_type": "code",
      "source": [
        "X.shape"
      ],
      "metadata": {
        "colab": {
          "base_uri": "https://localhost:8080/"
        },
        "id": "52-etlWuTdPQ",
        "outputId": "c6c4319e-9d02-4d68-b79b-14a1d9a00132"
      },
      "execution_count": 88,
      "outputs": [
        {
          "output_type": "execute_result",
          "data": {
            "text/plain": [
              "(20640, 8)"
            ]
          },
          "metadata": {},
          "execution_count": 88
        }
      ]
    },
    {
      "cell_type": "markdown",
      "source": [
        "# 2. Compute score and computation times\n",
        "\n",
        "Notice that many parts of the implementation of HistGradientBoostingClassifier and HistGradientBoostingRegressor are parallelized by default.\n",
        "\n",
        "The implementation of RandomForestRegressor and RandomForestClassifier can also be run on multiple cores by using the n_jobs parameter, here set to match the number of physical cores on the host machine."
      ],
      "metadata": {
        "id": "3dKey3jKT17C"
      }
    },
    {
      "cell_type": "code",
      "source": [
        "import joblib\n",
        "\n",
        "N_CORES = joblib.cpu_count(only_physical_cores=True)\n",
        "print(f\"Number of physical cores: {N_CORES}\")"
      ],
      "metadata": {
        "colab": {
          "base_uri": "https://localhost:8080/"
        },
        "id": "nMLu4ZBoTtiO",
        "outputId": "eade27ad-b628-4bde-f45e-75a726cc2c04"
      },
      "execution_count": 89,
      "outputs": [
        {
          "output_type": "stream",
          "name": "stdout",
          "text": [
            "Number of physical cores: 1\n"
          ]
        }
      ]
    },
    {
      "cell_type": "code",
      "source": [
        "import pandas as pd\n",
        "\n",
        "from sklearn.ensemble import HistGradientBoostingRegressor, RandomForestRegressor\n",
        "from sklearn.model_selection import GridSearchCV, KFold\n",
        "\n",
        "models = {\n",
        "    \"Random Forest\": RandomForestRegressor(\n",
        "        min_samples_leaf=5, random_state=0, n_jobs=N_CORES\n",
        "    ),\n",
        "    \"Hist Gradient Boosting\": HistGradientBoostingRegressor(\n",
        "        max_leaf_nodes=15, random_state=0, early_stopping=False\n",
        "    ),\n",
        "}\n",
        "param_grids = {\n",
        "    \"Random Forest\": {\"n_estimators\": [10, 20, 50, 100]},\n",
        "    \"Hist Gradient Boosting\": {\"max_iter\": [10, 20, 50, 100, 300, 500]},\n",
        "}\n",
        "cv = KFold(n_splits=4, shuffle=True, random_state=0)\n",
        "\n",
        "results = []\n",
        "for name, model in models.items():\n",
        "    grid_search = GridSearchCV(\n",
        "        estimator=model,\n",
        "        param_grid=param_grids[name],\n",
        "        return_train_score=True,\n",
        "        cv=cv,\n",
        "    ).fit(X, y)\n",
        "    result = {\"model\": name, \"cv_results\": pd.DataFrame(grid_search.cv_results_)}\n",
        "    results.append(result)"
      ],
      "metadata": {
        "id": "kSoQSxKWUJjn"
      },
      "execution_count": 90,
      "outputs": []
    },
    {
      "cell_type": "code",
      "source": [
        "len(results)"
      ],
      "metadata": {
        "colab": {
          "base_uri": "https://localhost:8080/"
        },
        "id": "iVJfUR4XURAD",
        "outputId": "99ac952a-a7d4-4d98-8f6a-c84c277404a9"
      },
      "execution_count": 93,
      "outputs": [
        {
          "output_type": "execute_result",
          "data": {
            "text/plain": [
              "2"
            ]
          },
          "metadata": {},
          "execution_count": 93
        }
      ]
    },
    {
      "cell_type": "markdown",
      "source": [
        "# 3. Performance of Random forest"
      ],
      "metadata": {
        "id": "C7mM_kwKVWAw"
      }
    },
    {
      "cell_type": "code",
      "source": [
        "results[0]"
      ],
      "metadata": {
        "colab": {
          "base_uri": "https://localhost:8080/"
        },
        "id": "o74y_TbsU1Wq",
        "outputId": "35eac954-3890-4a98-f962-5a4277187072"
      },
      "execution_count": 92,
      "outputs": [
        {
          "output_type": "execute_result",
          "data": {
            "text/plain": [
              "{'model': 'Random Forest',\n",
              " 'cv_results':    mean_fit_time  std_fit_time  mean_score_time  std_score_time  \\\n",
              " 0       1.645796      0.430740         0.013860        0.001694   \n",
              " 1       2.571259      0.271305         0.021254        0.002835   \n",
              " 2       6.254258      0.142329         0.049803        0.005455   \n",
              " 3      12.709991      0.032782         0.087468        0.012664   \n",
              " \n",
              "    param_n_estimators                 params  split0_test_score  \\\n",
              " 0                  10   {'n_estimators': 10}           0.775129   \n",
              " 1                  20   {'n_estimators': 20}           0.780163   \n",
              " 2                  50   {'n_estimators': 50}           0.787525   \n",
              " 3                 100  {'n_estimators': 100}           0.790414   \n",
              " \n",
              "    split1_test_score  split2_test_score  split3_test_score  mean_test_score  \\\n",
              " 0           0.802565           0.797065           0.798195         0.793239   \n",
              " 1           0.808334           0.802799           0.802941         0.798559   \n",
              " 2           0.812032           0.804711           0.807262         0.802882   \n",
              " 3           0.814160           0.806635           0.807133         0.804586   \n",
              " \n",
              "    std_test_score  rank_test_score  split0_train_score  split1_train_score  \\\n",
              " 0        0.010655                4            0.898551            0.901859   \n",
              " 1        0.010853                3            0.904373            0.906427   \n",
              " 2        0.009248                2            0.908894            0.909794   \n",
              " 3        0.008706                1            0.910056            0.911108   \n",
              " \n",
              "    split2_train_score  split3_train_score  mean_train_score  std_train_score  \n",
              " 0            0.901989            0.903087          0.901371         0.001697  \n",
              " 1            0.907384            0.907929          0.906528         0.001356  \n",
              " 2            0.910362            0.911043          0.910023         0.000788  \n",
              " 3            0.911729            0.911992          0.911221         0.000746  }"
            ]
          },
          "metadata": {},
          "execution_count": 92
        }
      ]
    },
    {
      "cell_type": "markdown",
      "source": [
        "# 4. Performance of Histogram Gradient Boosting"
      ],
      "metadata": {
        "id": "iW3plvgIVdgB"
      }
    },
    {
      "cell_type": "code",
      "source": [
        "results[1]"
      ],
      "metadata": {
        "colab": {
          "base_uri": "https://localhost:8080/"
        },
        "id": "jJ4P92bQVCIg",
        "outputId": "9de24d17-f153-4f1d-801e-67a69a9e0d04"
      },
      "execution_count": 94,
      "outputs": [
        {
          "output_type": "execute_result",
          "data": {
            "text/plain": [
              "{'model': 'Hist Gradient Boosting',\n",
              " 'cv_results':    mean_fit_time  std_fit_time  mean_score_time  std_score_time  \\\n",
              " 0       0.090888      0.007222         0.010296        0.000744   \n",
              " 1       0.082654      0.002437         0.011589        0.000909   \n",
              " 2       0.157705      0.003031         0.024664        0.001274   \n",
              " 3       0.272489      0.006223         0.044208        0.002045   \n",
              " 4       0.732775      0.024231         0.109540        0.004732   \n",
              " 5       1.301649      0.217493         0.191668        0.037432   \n",
              " \n",
              "    param_max_iter             params  split0_test_score  split1_test_score  \\\n",
              " 0              10   {'max_iter': 10}           0.570686           0.582963   \n",
              " 1              20   {'max_iter': 20}           0.702434           0.720154   \n",
              " 2              50   {'max_iter': 50}           0.791318           0.804498   \n",
              " 3             100  {'max_iter': 100}           0.818657           0.825981   \n",
              " 4             300  {'max_iter': 300}           0.842970           0.845785   \n",
              " 5             500  {'max_iter': 500}           0.847688           0.850692   \n",
              " \n",
              "    split2_test_score  split3_test_score  mean_test_score  std_test_score  \\\n",
              " 0           0.570373           0.584457         0.577120        0.006612   \n",
              " 1           0.711321           0.723437         0.714336        0.008177   \n",
              " 2           0.799801           0.805076         0.800173        0.005507   \n",
              " 3           0.819689           0.826221         0.822637        0.003484   \n",
              " 4           0.838055           0.843893         0.842676        0.002854   \n",
              " 5           0.843761           0.850080         0.848055        0.002722   \n",
              " \n",
              "    rank_test_score  split0_train_score  split1_train_score  \\\n",
              " 0                6            0.591868            0.582565   \n",
              " 1                5            0.726419            0.723465   \n",
              " 2                4            0.817029            0.816440   \n",
              " 3                3            0.849210            0.849896   \n",
              " 4                2            0.895128            0.895451   \n",
              " 5                1            0.916813            0.917736   \n",
              " \n",
              "    split2_train_score  split3_train_score  mean_train_score  std_train_score  \n",
              " 0            0.578643            0.586146          0.584806         0.004865  \n",
              " 1            0.722955            0.726872          0.724928         0.001735  \n",
              " 2            0.817287            0.817327          0.817021         0.000354  \n",
              " 3            0.849686            0.850876          0.849917         0.000607  \n",
              " 4            0.897269            0.896324          0.896043         0.000832  \n",
              " 5            0.919378            0.918104          0.918008         0.000921  }"
            ]
          },
          "metadata": {},
          "execution_count": 94
        }
      ]
    },
    {
      "cell_type": "markdown",
      "source": [
        "# 5. Plot and visualize the results"
      ],
      "metadata": {
        "id": "7aW57lMuVsm7"
      }
    },
    {
      "cell_type": "code",
      "source": [
        "import plotly.colors as colors\n",
        "import plotly.express as px\n",
        "from plotly.subplots import make_subplots\n",
        "\n",
        "fig = make_subplots(\n",
        "    rows=1,\n",
        "    cols=2,\n",
        "    shared_yaxes=True,\n",
        "    subplot_titles=[\"Train time vs score\", \"Predict time vs score\"],\n",
        ")\n",
        "model_names = [result[\"model\"] for result in results]\n",
        "colors_list = colors.qualitative.Plotly * (\n",
        "    len(model_names) // len(colors.qualitative.Plotly) + 1\n",
        ")\n",
        "\n",
        "for idx, result in enumerate(results):\n",
        "    cv_results = result[\"cv_results\"].round(3)\n",
        "    model_name = result[\"model\"]\n",
        "    param_name = list(param_grids[model_name].keys())[0]\n",
        "    cv_results[param_name] = cv_results[\"param_\" + param_name]\n",
        "    cv_results[\"model\"] = model_name\n",
        "\n",
        "    scatter_fig = px.scatter(\n",
        "        cv_results,\n",
        "        x=\"mean_fit_time\",\n",
        "        y=\"mean_test_score\",\n",
        "        error_x=\"std_fit_time\",\n",
        "        error_y=\"std_test_score\",\n",
        "        hover_data=param_name,\n",
        "        color=\"model\",\n",
        "    )\n",
        "    line_fig = px.line(\n",
        "        cv_results,\n",
        "        x=\"mean_fit_time\",\n",
        "        y=\"mean_test_score\",\n",
        "    )\n",
        "\n",
        "    scatter_trace = scatter_fig[\"data\"][0]\n",
        "    line_trace = line_fig[\"data\"][0]\n",
        "    scatter_trace.update(marker=dict(color=colors_list[idx]))\n",
        "    line_trace.update(line=dict(color=colors_list[idx]))\n",
        "    fig.add_trace(scatter_trace, row=1, col=1)\n",
        "    fig.add_trace(line_trace, row=1, col=1)\n",
        "\n",
        "    scatter_fig = px.scatter(\n",
        "        cv_results,\n",
        "        x=\"mean_score_time\",\n",
        "        y=\"mean_test_score\",\n",
        "        error_x=\"std_score_time\",\n",
        "        error_y=\"std_test_score\",\n",
        "        hover_data=param_name,\n",
        "    )\n",
        "    line_fig = px.line(\n",
        "        cv_results,\n",
        "        x=\"mean_score_time\",\n",
        "        y=\"mean_test_score\",\n",
        "    )\n",
        "\n",
        "    scatter_trace = scatter_fig[\"data\"][0]\n",
        "    line_trace = line_fig[\"data\"][0]\n",
        "    scatter_trace.update(marker=dict(color=colors_list[idx]))\n",
        "    line_trace.update(line=dict(color=colors_list[idx]))\n",
        "    fig.add_trace(scatter_trace, row=1, col=2)\n",
        "    fig.add_trace(line_trace, row=1, col=2)\n",
        "\n",
        "fig.update_layout(\n",
        "    xaxis=dict(title=\"Train time (s) - lower is better\"),\n",
        "    yaxis=dict(title=\"Test R2 score - higher is better\"),\n",
        "    xaxis2=dict(title=\"Predict time (s) - lower is better\"),\n",
        "    legend=dict(x=0.72, y=0.05, traceorder=\"normal\", borderwidth=1),\n",
        "    title=dict(x=0.5, text=\"Speed-score trade-off of tree-based ensembles\"),\n",
        ")"
      ],
      "metadata": {
        "colab": {
          "base_uri": "https://localhost:8080/",
          "height": 542
        },
        "id": "nlM4-bysVRnQ",
        "outputId": "6d65680e-5ee0-4a65-b574-f62d7461038f"
      },
      "execution_count": 95,
      "outputs": [
        {
          "output_type": "display_data",
          "data": {
            "text/html": [
              "<html>\n",
              "<head><meta charset=\"utf-8\" /></head>\n",
              "<body>\n",
              "    <div>            <script src=\"https://cdnjs.cloudflare.com/ajax/libs/mathjax/2.7.5/MathJax.js?config=TeX-AMS-MML_SVG\"></script><script type=\"text/javascript\">if (window.MathJax && window.MathJax.Hub && window.MathJax.Hub.Config) {window.MathJax.Hub.Config({SVG: {font: \"STIX-Web\"}});}</script>                <script type=\"text/javascript\">window.PlotlyConfig = {MathJaxConfig: 'local'};</script>\n",
              "        <script charset=\"utf-8\" src=\"https://cdn.plot.ly/plotly-2.35.2.min.js\"></script>                <div id=\"57693b31-9262-4a40-aa23-3ff7427a8b1c\" class=\"plotly-graph-div\" style=\"height:525px; width:100%;\"></div>            <script type=\"text/javascript\">                                    window.PLOTLYENV=window.PLOTLYENV || {};                                    if (document.getElementById(\"57693b31-9262-4a40-aa23-3ff7427a8b1c\")) {                    Plotly.newPlot(                        \"57693b31-9262-4a40-aa23-3ff7427a8b1c\",                        [{\"customdata\":[[10],[20],[50],[100]],\"error_x\":{\"array\":[0.431,0.271,0.142,0.033]},\"error_y\":{\"array\":[0.011,0.011,0.009,0.009]},\"hovertemplate\":\"model=Random Forest\\u003cbr\\u003emean_fit_time=%{x}\\u003cbr\\u003emean_test_score=%{y}\\u003cbr\\u003en_estimators=%{customdata[0]}\\u003cextra\\u003e\\u003c\\u002fextra\\u003e\",\"legendgroup\":\"Random Forest\",\"marker\":{\"color\":\"#636EFA\",\"symbol\":\"circle\"},\"mode\":\"markers\",\"name\":\"Random Forest\",\"orientation\":\"v\",\"showlegend\":true,\"x\":[1.646,2.571,6.254,12.71],\"xaxis\":\"x\",\"y\":[0.793,0.799,0.803,0.805],\"yaxis\":\"y\",\"type\":\"scatter\"},{\"hovertemplate\":\"mean_fit_time=%{x}\\u003cbr\\u003emean_test_score=%{y}\\u003cextra\\u003e\\u003c\\u002fextra\\u003e\",\"legendgroup\":\"\",\"line\":{\"color\":\"#636EFA\",\"dash\":\"solid\"},\"marker\":{\"symbol\":\"circle\"},\"mode\":\"lines\",\"name\":\"\",\"orientation\":\"v\",\"showlegend\":false,\"x\":[1.646,2.571,6.254,12.71],\"xaxis\":\"x\",\"y\":[0.793,0.799,0.803,0.805],\"yaxis\":\"y\",\"type\":\"scatter\"},{\"customdata\":[[10],[20],[50],[100]],\"error_x\":{\"array\":[0.002,0.003,0.005,0.013]},\"error_y\":{\"array\":[0.011,0.011,0.009,0.009]},\"hovertemplate\":\"mean_score_time=%{x}\\u003cbr\\u003emean_test_score=%{y}\\u003cbr\\u003en_estimators=%{customdata[0]}\\u003cextra\\u003e\\u003c\\u002fextra\\u003e\",\"legendgroup\":\"\",\"marker\":{\"color\":\"#636EFA\",\"symbol\":\"circle\"},\"mode\":\"markers\",\"name\":\"\",\"orientation\":\"v\",\"showlegend\":false,\"x\":[0.014,0.021,0.05,0.087],\"xaxis\":\"x2\",\"y\":[0.793,0.799,0.803,0.805],\"yaxis\":\"y2\",\"type\":\"scatter\"},{\"hovertemplate\":\"mean_score_time=%{x}\\u003cbr\\u003emean_test_score=%{y}\\u003cextra\\u003e\\u003c\\u002fextra\\u003e\",\"legendgroup\":\"\",\"line\":{\"color\":\"#636EFA\",\"dash\":\"solid\"},\"marker\":{\"symbol\":\"circle\"},\"mode\":\"lines\",\"name\":\"\",\"orientation\":\"v\",\"showlegend\":false,\"x\":[0.014,0.021,0.05,0.087],\"xaxis\":\"x2\",\"y\":[0.793,0.799,0.803,0.805],\"yaxis\":\"y2\",\"type\":\"scatter\"},{\"customdata\":[[10],[20],[50],[100],[300],[500]],\"error_x\":{\"array\":[0.007,0.002,0.003,0.006,0.024,0.217]},\"error_y\":{\"array\":[0.007,0.008,0.006,0.003,0.003,0.003]},\"hovertemplate\":\"model=Hist Gradient Boosting\\u003cbr\\u003emean_fit_time=%{x}\\u003cbr\\u003emean_test_score=%{y}\\u003cbr\\u003emax_iter=%{customdata[0]}\\u003cextra\\u003e\\u003c\\u002fextra\\u003e\",\"legendgroup\":\"Hist Gradient Boosting\",\"marker\":{\"color\":\"#EF553B\",\"symbol\":\"circle\"},\"mode\":\"markers\",\"name\":\"Hist Gradient Boosting\",\"orientation\":\"v\",\"showlegend\":true,\"x\":[0.091,0.083,0.158,0.272,0.733,1.302],\"xaxis\":\"x\",\"y\":[0.577,0.714,0.8,0.823,0.843,0.848],\"yaxis\":\"y\",\"type\":\"scatter\"},{\"hovertemplate\":\"mean_fit_time=%{x}\\u003cbr\\u003emean_test_score=%{y}\\u003cextra\\u003e\\u003c\\u002fextra\\u003e\",\"legendgroup\":\"\",\"line\":{\"color\":\"#EF553B\",\"dash\":\"solid\"},\"marker\":{\"symbol\":\"circle\"},\"mode\":\"lines\",\"name\":\"\",\"orientation\":\"v\",\"showlegend\":false,\"x\":[0.091,0.083,0.158,0.272,0.733,1.302],\"xaxis\":\"x\",\"y\":[0.577,0.714,0.8,0.823,0.843,0.848],\"yaxis\":\"y\",\"type\":\"scatter\"},{\"customdata\":[[10],[20],[50],[100],[300],[500]],\"error_x\":{\"array\":[0.001,0.001,0.001,0.002,0.005,0.037]},\"error_y\":{\"array\":[0.007,0.008,0.006,0.003,0.003,0.003]},\"hovertemplate\":\"mean_score_time=%{x}\\u003cbr\\u003emean_test_score=%{y}\\u003cbr\\u003emax_iter=%{customdata[0]}\\u003cextra\\u003e\\u003c\\u002fextra\\u003e\",\"legendgroup\":\"\",\"marker\":{\"color\":\"#EF553B\",\"symbol\":\"circle\"},\"mode\":\"markers\",\"name\":\"\",\"orientation\":\"v\",\"showlegend\":false,\"x\":[0.01,0.012,0.025,0.044,0.11,0.192],\"xaxis\":\"x2\",\"y\":[0.577,0.714,0.8,0.823,0.843,0.848],\"yaxis\":\"y2\",\"type\":\"scatter\"},{\"hovertemplate\":\"mean_score_time=%{x}\\u003cbr\\u003emean_test_score=%{y}\\u003cextra\\u003e\\u003c\\u002fextra\\u003e\",\"legendgroup\":\"\",\"line\":{\"color\":\"#EF553B\",\"dash\":\"solid\"},\"marker\":{\"symbol\":\"circle\"},\"mode\":\"lines\",\"name\":\"\",\"orientation\":\"v\",\"showlegend\":false,\"x\":[0.01,0.012,0.025,0.044,0.11,0.192],\"xaxis\":\"x2\",\"y\":[0.577,0.714,0.8,0.823,0.843,0.848],\"yaxis\":\"y2\",\"type\":\"scatter\"}],                        {\"template\":{\"data\":{\"histogram2dcontour\":[{\"type\":\"histogram2dcontour\",\"colorbar\":{\"outlinewidth\":0,\"ticks\":\"\"},\"colorscale\":[[0.0,\"#0d0887\"],[0.1111111111111111,\"#46039f\"],[0.2222222222222222,\"#7201a8\"],[0.3333333333333333,\"#9c179e\"],[0.4444444444444444,\"#bd3786\"],[0.5555555555555556,\"#d8576b\"],[0.6666666666666666,\"#ed7953\"],[0.7777777777777778,\"#fb9f3a\"],[0.8888888888888888,\"#fdca26\"],[1.0,\"#f0f921\"]]}],\"choropleth\":[{\"type\":\"choropleth\",\"colorbar\":{\"outlinewidth\":0,\"ticks\":\"\"}}],\"histogram2d\":[{\"type\":\"histogram2d\",\"colorbar\":{\"outlinewidth\":0,\"ticks\":\"\"},\"colorscale\":[[0.0,\"#0d0887\"],[0.1111111111111111,\"#46039f\"],[0.2222222222222222,\"#7201a8\"],[0.3333333333333333,\"#9c179e\"],[0.4444444444444444,\"#bd3786\"],[0.5555555555555556,\"#d8576b\"],[0.6666666666666666,\"#ed7953\"],[0.7777777777777778,\"#fb9f3a\"],[0.8888888888888888,\"#fdca26\"],[1.0,\"#f0f921\"]]}],\"heatmap\":[{\"type\":\"heatmap\",\"colorbar\":{\"outlinewidth\":0,\"ticks\":\"\"},\"colorscale\":[[0.0,\"#0d0887\"],[0.1111111111111111,\"#46039f\"],[0.2222222222222222,\"#7201a8\"],[0.3333333333333333,\"#9c179e\"],[0.4444444444444444,\"#bd3786\"],[0.5555555555555556,\"#d8576b\"],[0.6666666666666666,\"#ed7953\"],[0.7777777777777778,\"#fb9f3a\"],[0.8888888888888888,\"#fdca26\"],[1.0,\"#f0f921\"]]}],\"heatmapgl\":[{\"type\":\"heatmapgl\",\"colorbar\":{\"outlinewidth\":0,\"ticks\":\"\"},\"colorscale\":[[0.0,\"#0d0887\"],[0.1111111111111111,\"#46039f\"],[0.2222222222222222,\"#7201a8\"],[0.3333333333333333,\"#9c179e\"],[0.4444444444444444,\"#bd3786\"],[0.5555555555555556,\"#d8576b\"],[0.6666666666666666,\"#ed7953\"],[0.7777777777777778,\"#fb9f3a\"],[0.8888888888888888,\"#fdca26\"],[1.0,\"#f0f921\"]]}],\"contourcarpet\":[{\"type\":\"contourcarpet\",\"colorbar\":{\"outlinewidth\":0,\"ticks\":\"\"}}],\"contour\":[{\"type\":\"contour\",\"colorbar\":{\"outlinewidth\":0,\"ticks\":\"\"},\"colorscale\":[[0.0,\"#0d0887\"],[0.1111111111111111,\"#46039f\"],[0.2222222222222222,\"#7201a8\"],[0.3333333333333333,\"#9c179e\"],[0.4444444444444444,\"#bd3786\"],[0.5555555555555556,\"#d8576b\"],[0.6666666666666666,\"#ed7953\"],[0.7777777777777778,\"#fb9f3a\"],[0.8888888888888888,\"#fdca26\"],[1.0,\"#f0f921\"]]}],\"surface\":[{\"type\":\"surface\",\"colorbar\":{\"outlinewidth\":0,\"ticks\":\"\"},\"colorscale\":[[0.0,\"#0d0887\"],[0.1111111111111111,\"#46039f\"],[0.2222222222222222,\"#7201a8\"],[0.3333333333333333,\"#9c179e\"],[0.4444444444444444,\"#bd3786\"],[0.5555555555555556,\"#d8576b\"],[0.6666666666666666,\"#ed7953\"],[0.7777777777777778,\"#fb9f3a\"],[0.8888888888888888,\"#fdca26\"],[1.0,\"#f0f921\"]]}],\"mesh3d\":[{\"type\":\"mesh3d\",\"colorbar\":{\"outlinewidth\":0,\"ticks\":\"\"}}],\"scatter\":[{\"fillpattern\":{\"fillmode\":\"overlay\",\"size\":10,\"solidity\":0.2},\"type\":\"scatter\"}],\"parcoords\":[{\"type\":\"parcoords\",\"line\":{\"colorbar\":{\"outlinewidth\":0,\"ticks\":\"\"}}}],\"scatterpolargl\":[{\"type\":\"scatterpolargl\",\"marker\":{\"colorbar\":{\"outlinewidth\":0,\"ticks\":\"\"}}}],\"bar\":[{\"error_x\":{\"color\":\"#2a3f5f\"},\"error_y\":{\"color\":\"#2a3f5f\"},\"marker\":{\"line\":{\"color\":\"#E5ECF6\",\"width\":0.5},\"pattern\":{\"fillmode\":\"overlay\",\"size\":10,\"solidity\":0.2}},\"type\":\"bar\"}],\"scattergeo\":[{\"type\":\"scattergeo\",\"marker\":{\"colorbar\":{\"outlinewidth\":0,\"ticks\":\"\"}}}],\"scatterpolar\":[{\"type\":\"scatterpolar\",\"marker\":{\"colorbar\":{\"outlinewidth\":0,\"ticks\":\"\"}}}],\"histogram\":[{\"marker\":{\"pattern\":{\"fillmode\":\"overlay\",\"size\":10,\"solidity\":0.2}},\"type\":\"histogram\"}],\"scattergl\":[{\"type\":\"scattergl\",\"marker\":{\"colorbar\":{\"outlinewidth\":0,\"ticks\":\"\"}}}],\"scatter3d\":[{\"type\":\"scatter3d\",\"line\":{\"colorbar\":{\"outlinewidth\":0,\"ticks\":\"\"}},\"marker\":{\"colorbar\":{\"outlinewidth\":0,\"ticks\":\"\"}}}],\"scattermapbox\":[{\"type\":\"scattermapbox\",\"marker\":{\"colorbar\":{\"outlinewidth\":0,\"ticks\":\"\"}}}],\"scatterternary\":[{\"type\":\"scatterternary\",\"marker\":{\"colorbar\":{\"outlinewidth\":0,\"ticks\":\"\"}}}],\"scattercarpet\":[{\"type\":\"scattercarpet\",\"marker\":{\"colorbar\":{\"outlinewidth\":0,\"ticks\":\"\"}}}],\"carpet\":[{\"aaxis\":{\"endlinecolor\":\"#2a3f5f\",\"gridcolor\":\"white\",\"linecolor\":\"white\",\"minorgridcolor\":\"white\",\"startlinecolor\":\"#2a3f5f\"},\"baxis\":{\"endlinecolor\":\"#2a3f5f\",\"gridcolor\":\"white\",\"linecolor\":\"white\",\"minorgridcolor\":\"white\",\"startlinecolor\":\"#2a3f5f\"},\"type\":\"carpet\"}],\"table\":[{\"cells\":{\"fill\":{\"color\":\"#EBF0F8\"},\"line\":{\"color\":\"white\"}},\"header\":{\"fill\":{\"color\":\"#C8D4E3\"},\"line\":{\"color\":\"white\"}},\"type\":\"table\"}],\"barpolar\":[{\"marker\":{\"line\":{\"color\":\"#E5ECF6\",\"width\":0.5},\"pattern\":{\"fillmode\":\"overlay\",\"size\":10,\"solidity\":0.2}},\"type\":\"barpolar\"}],\"pie\":[{\"automargin\":true,\"type\":\"pie\"}]},\"layout\":{\"autotypenumbers\":\"strict\",\"colorway\":[\"#636efa\",\"#EF553B\",\"#00cc96\",\"#ab63fa\",\"#FFA15A\",\"#19d3f3\",\"#FF6692\",\"#B6E880\",\"#FF97FF\",\"#FECB52\"],\"font\":{\"color\":\"#2a3f5f\"},\"hovermode\":\"closest\",\"hoverlabel\":{\"align\":\"left\"},\"paper_bgcolor\":\"white\",\"plot_bgcolor\":\"#E5ECF6\",\"polar\":{\"bgcolor\":\"#E5ECF6\",\"angularaxis\":{\"gridcolor\":\"white\",\"linecolor\":\"white\",\"ticks\":\"\"},\"radialaxis\":{\"gridcolor\":\"white\",\"linecolor\":\"white\",\"ticks\":\"\"}},\"ternary\":{\"bgcolor\":\"#E5ECF6\",\"aaxis\":{\"gridcolor\":\"white\",\"linecolor\":\"white\",\"ticks\":\"\"},\"baxis\":{\"gridcolor\":\"white\",\"linecolor\":\"white\",\"ticks\":\"\"},\"caxis\":{\"gridcolor\":\"white\",\"linecolor\":\"white\",\"ticks\":\"\"}},\"coloraxis\":{\"colorbar\":{\"outlinewidth\":0,\"ticks\":\"\"}},\"colorscale\":{\"sequential\":[[0.0,\"#0d0887\"],[0.1111111111111111,\"#46039f\"],[0.2222222222222222,\"#7201a8\"],[0.3333333333333333,\"#9c179e\"],[0.4444444444444444,\"#bd3786\"],[0.5555555555555556,\"#d8576b\"],[0.6666666666666666,\"#ed7953\"],[0.7777777777777778,\"#fb9f3a\"],[0.8888888888888888,\"#fdca26\"],[1.0,\"#f0f921\"]],\"sequentialminus\":[[0.0,\"#0d0887\"],[0.1111111111111111,\"#46039f\"],[0.2222222222222222,\"#7201a8\"],[0.3333333333333333,\"#9c179e\"],[0.4444444444444444,\"#bd3786\"],[0.5555555555555556,\"#d8576b\"],[0.6666666666666666,\"#ed7953\"],[0.7777777777777778,\"#fb9f3a\"],[0.8888888888888888,\"#fdca26\"],[1.0,\"#f0f921\"]],\"diverging\":[[0,\"#8e0152\"],[0.1,\"#c51b7d\"],[0.2,\"#de77ae\"],[0.3,\"#f1b6da\"],[0.4,\"#fde0ef\"],[0.5,\"#f7f7f7\"],[0.6,\"#e6f5d0\"],[0.7,\"#b8e186\"],[0.8,\"#7fbc41\"],[0.9,\"#4d9221\"],[1,\"#276419\"]]},\"xaxis\":{\"gridcolor\":\"white\",\"linecolor\":\"white\",\"ticks\":\"\",\"title\":{\"standoff\":15},\"zerolinecolor\":\"white\",\"automargin\":true,\"zerolinewidth\":2},\"yaxis\":{\"gridcolor\":\"white\",\"linecolor\":\"white\",\"ticks\":\"\",\"title\":{\"standoff\":15},\"zerolinecolor\":\"white\",\"automargin\":true,\"zerolinewidth\":2},\"scene\":{\"xaxis\":{\"backgroundcolor\":\"#E5ECF6\",\"gridcolor\":\"white\",\"linecolor\":\"white\",\"showbackground\":true,\"ticks\":\"\",\"zerolinecolor\":\"white\",\"gridwidth\":2},\"yaxis\":{\"backgroundcolor\":\"#E5ECF6\",\"gridcolor\":\"white\",\"linecolor\":\"white\",\"showbackground\":true,\"ticks\":\"\",\"zerolinecolor\":\"white\",\"gridwidth\":2},\"zaxis\":{\"backgroundcolor\":\"#E5ECF6\",\"gridcolor\":\"white\",\"linecolor\":\"white\",\"showbackground\":true,\"ticks\":\"\",\"zerolinecolor\":\"white\",\"gridwidth\":2}},\"shapedefaults\":{\"line\":{\"color\":\"#2a3f5f\"}},\"annotationdefaults\":{\"arrowcolor\":\"#2a3f5f\",\"arrowhead\":0,\"arrowwidth\":1},\"geo\":{\"bgcolor\":\"white\",\"landcolor\":\"#E5ECF6\",\"subunitcolor\":\"white\",\"showland\":true,\"showlakes\":true,\"lakecolor\":\"white\"},\"title\":{\"x\":0.05},\"mapbox\":{\"style\":\"light\"}}},\"xaxis\":{\"anchor\":\"y\",\"domain\":[0.0,0.45],\"title\":{\"text\":\"Train time (s) - lower is better\"}},\"yaxis\":{\"anchor\":\"x\",\"domain\":[0.0,1.0],\"title\":{\"text\":\"Test R2 score - higher is better\"}},\"xaxis2\":{\"anchor\":\"y2\",\"domain\":[0.55,1.0],\"title\":{\"text\":\"Predict time (s) - lower is better\"}},\"yaxis2\":{\"anchor\":\"x2\",\"domain\":[0.0,1.0],\"matches\":\"y\",\"showticklabels\":false},\"annotations\":[{\"font\":{\"size\":16},\"showarrow\":false,\"text\":\"Train time vs score\",\"x\":0.225,\"xanchor\":\"center\",\"xref\":\"paper\",\"y\":1.0,\"yanchor\":\"bottom\",\"yref\":\"paper\"},{\"font\":{\"size\":16},\"showarrow\":false,\"text\":\"Predict time vs score\",\"x\":0.775,\"xanchor\":\"center\",\"xref\":\"paper\",\"y\":1.0,\"yanchor\":\"bottom\",\"yref\":\"paper\"}],\"legend\":{\"x\":0.72,\"y\":0.05,\"traceorder\":\"normal\",\"borderwidth\":1},\"title\":{\"x\":0.5,\"text\":\"Speed-score trade-off of tree-based ensembles\"}},                        {\"responsive\": true}                    ).then(function(){\n",
              "                            \n",
              "var gd = document.getElementById('57693b31-9262-4a40-aa23-3ff7427a8b1c');\n",
              "var x = new MutationObserver(function (mutations, observer) {{\n",
              "        var display = window.getComputedStyle(gd).display;\n",
              "        if (!display || display === 'none') {{\n",
              "            console.log([gd, 'removed!']);\n",
              "            Plotly.purge(gd);\n",
              "            observer.disconnect();\n",
              "        }}\n",
              "}});\n",
              "\n",
              "// Listen for the removal of the full notebook cells\n",
              "var notebookContainer = gd.closest('#notebook-container');\n",
              "if (notebookContainer) {{\n",
              "    x.observe(notebookContainer, {childList: true});\n",
              "}}\n",
              "\n",
              "// Listen for the clearing of the current output cell\n",
              "var outputEl = gd.closest('.output');\n",
              "if (outputEl) {{\n",
              "    x.observe(outputEl, {childList: true});\n",
              "}}\n",
              "\n",
              "                        })                };                            </script>        </div>\n",
              "</body>\n",
              "</html>"
            ]
          },
          "metadata": {}
        }
      ]
    },
    {
      "cell_type": "markdown",
      "source": [
        "Conclusion\n",
        "\n",
        "Overall, one should often observe that the Histogram-based gradient boosting models uniformly dominate the Random Forest models in the “test score vs training speed trade-off” (the HGBDT curve should be on the top left of the RF curve, without ever crossing). The “test score vs prediction speed” trade-off can also be more disputed, but it’s most often favorable to HGBDT. It’s always a good idea to check both kinds of model (with hyper-parameter tuning) and compare their performance on your specific problem to determine which model is the best fit but HGBT almost always offers a more favorable speed-accuracy trade-off than RF, either with the default hyper-parameters or including the hyper-parameter tuning cost.\n",
        "\n",
        "There is one exception to this rule of thumb though: when training a multiclass classification model with a large number of possible classes, HGBDT fits internally one-tree per class at each boosting iteration while the trees used by the RF models are naturally multiclass which should improve the speed accuracy trade-off of the RF models in this case."
      ],
      "metadata": {
        "id": "UcGIBiT4WdjS"
      }
    },
    {
      "cell_type": "code",
      "source": [],
      "metadata": {
        "id": "zA0I5zLRVw-O"
      },
      "execution_count": null,
      "outputs": []
    }
  ],
  "metadata": {
    "colab": {
      "provenance": []
    },
    "kernelspec": {
      "display_name": "Python 3",
      "name": "python3"
    },
    "language_info": {
      "name": "python"
    }
  },
  "nbformat": 4,
  "nbformat_minor": 0
}